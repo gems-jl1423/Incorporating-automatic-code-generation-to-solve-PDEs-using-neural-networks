{
 "cells": [
  {
   "cell_type": "code",
   "execution_count": 1,
   "id": "10188300",
   "metadata": {},
   "outputs": [],
   "source": [
    "from examples.cfd import  plot_field\n",
    "import numpy as np\n",
    "from devito import *\n",
    "from filter_generator import filter_generator\n",
    "\n",
    "    \n",
    "nt = 100  # Number of timesteps\n",
    "dt = 0.01  # Timestep size (sigma=0.2)\n",
    "c = 1  # Value for c\n",
    "nx = 10\n",
    "ny = 10\n",
    "length = 1\n",
    "dx = length/nx\n",
    "dy = length/ny\n",
    "# Then we create a grid and our function\n",
    "grid = Grid(shape=(nx, ny), extent=(length,length))\n",
    "u = TimeFunction(name='u', grid=grid,time_order = 2, space_order = 2)\n",
    "\n",
    "eq = Eq(u.dt + c*u.dx + c*u.dy)\n"
   ]
  },
  {
   "cell_type": "code",
   "execution_count": 2,
   "id": "ddbe51c7",
   "metadata": {},
   "outputs": [
    {
     "data": {
      "text/latex": [
       "$\\displaystyle \\frac{\\partial}{\\partial x} u(t, x, y) + \\frac{\\partial}{\\partial y} u(t, x, y) + \\frac{\\partial}{\\partial t} u(t, x, y) = 0$"
      ],
      "text/plain": [
       "Eq(Derivative(u(t, x, y), x) + Derivative(u(t, x, y), y) + Derivative(u(t, x, y), t), 0)"
      ]
     },
     "execution_count": 2,
     "metadata": {},
     "output_type": "execute_result"
    }
   ],
   "source": [
    "eq"
   ]
  },
  {
   "cell_type": "code",
   "execution_count": 3,
   "id": "ad97185d",
   "metadata": {},
   "outputs": [
    {
     "data": {
      "text/latex": [
       "$\\displaystyle dt \\left(- \\frac{\\partial}{\\partial x} u(t, x, y) - \\frac{\\partial}{\\partial y} u(t, x, y) + \\frac{u(t, x, y)}{dt}\\right)$"
      ],
      "text/plain": [
       "dt*(-Derivative(u(t, x, y), x) - Derivative(u(t, x, y), y) + u(t, x, y)/dt)"
      ]
     },
     "execution_count": 3,
     "metadata": {},
     "output_type": "execute_result"
    }
   ],
   "source": [
    "stencil = solve(eq, u.forward)\n",
    "stencil"
   ]
  },
  {
   "cell_type": "code",
   "execution_count": 4,
   "id": "a02ad1d4",
   "metadata": {},
   "outputs": [
    {
     "data": {
      "text/latex": [
       "$\\displaystyle u(t + dt, x, y) = dt \\left(- \\frac{\\partial}{\\partial x} u(t, x, y) - \\frac{\\partial}{\\partial y} u(t, x, y) + \\frac{u(t, x, y)}{dt}\\right)$"
      ],
      "text/plain": [
       "Eq(u(t + dt, x, y), dt*(-Derivative(u(t, x, y), x) - Derivative(u(t, x, y), y) + u(t, x, y)/dt))"
      ]
     },
     "execution_count": 4,
     "metadata": {},
     "output_type": "execute_result"
    }
   ],
   "source": [
    "eq_1 = Eq(u.forward, stencil)\n",
    "eq_1"
   ]
  },
  {
   "cell_type": "code",
   "execution_count": 5,
   "id": "8b870693",
   "metadata": {},
   "outputs": [],
   "source": [
    "t,x,y = u.dimensions"
   ]
  },
  {
   "cell_type": "code",
   "execution_count": 6,
   "id": "67f46e7c",
   "metadata": {},
   "outputs": [
    {
     "data": {
      "text/latex": [
       "$\\displaystyle u(t + dt, x + h_x, y)$"
      ],
      "text/plain": [
       "u(t + dt, x + h_x, y)"
      ]
     },
     "execution_count": 6,
     "metadata": {},
     "output_type": "execute_result"
    }
   ],
   "source": [
    "u.forward.shift(x,x.spacing)"
   ]
  },
  {
   "cell_type": "code",
   "execution_count": 7,
   "id": "930840bc",
   "metadata": {},
   "outputs": [
    {
     "data": {
      "text/latex": [
       "$\\displaystyle dt$"
      ],
      "text/plain": [
       "dt"
      ]
     },
     "execution_count": 7,
     "metadata": {},
     "output_type": "execute_result"
    }
   ],
   "source": [
    "t.spacing"
   ]
  },
  {
   "cell_type": "code",
   "execution_count": 8,
   "id": "7aa3c2f7",
   "metadata": {},
   "outputs": [
    {
     "data": {
      "text/plain": [
       "array([[ 0.  , -0.05,  0.  ],\n",
       "       [-0.05,  1.  ,  0.05],\n",
       "       [ 0.  ,  0.05,  0.  ]])"
      ]
     },
     "execution_count": 8,
     "metadata": {},
     "output_type": "execute_result"
    }
   ],
   "source": [
    "filter_generator(eq, u, delta_t=dt,dx=dx, dy = dy)"
   ]
  },
  {
   "cell_type": "code",
   "execution_count": 12,
   "id": "c9b5e533",
   "metadata": {},
   "outputs": [
    {
     "data": {
      "text/plain": [
       "0.049999999999999996"
      ]
     },
     "execution_count": 12,
     "metadata": {},
     "output_type": "execute_result"
    }
   ],
   "source": [
    "dt/2/dx"
   ]
  },
  {
   "cell_type": "code",
   "execution_count": 9,
   "id": "86a4db1d",
   "metadata": {},
   "outputs": [
    {
     "data": {
      "text/latex": [
       "$\\displaystyle \\frac{\\partial^{2}}{\\partial x^{2}} u(t, x, y)$"
      ],
      "text/plain": [
       "Derivative(u(t, x, y), (x, 2))"
      ]
     },
     "execution_count": 9,
     "metadata": {},
     "output_type": "execute_result"
    }
   ],
   "source": [
    "u.dx2"
   ]
  },
  {
   "cell_type": "code",
   "execution_count": 10,
   "id": "64bf29dc",
   "metadata": {},
   "outputs": [
    {
     "data": {
      "text/latex": [
       "$\\displaystyle \\frac{\\partial}{\\partial t} u(t, x, y) = \\frac{\\partial^{2}}{\\partial x^{2}} u(t, x, y) + \\frac{\\partial^{2}}{\\partial y^{2}} u(t, x, y)$"
      ],
      "text/plain": [
       "Eq(Derivative(u(t, x, y), t), Derivative(u(t, x, y), (x, 2)) + Derivative(u(t, x, y), (y, 2)))"
      ]
     },
     "execution_count": 10,
     "metadata": {},
     "output_type": "execute_result"
    }
   ],
   "source": [
    "D = 1\n",
    "eq_diff = Eq(u.dt, D * (u.dx2 + u.dy2))\n",
    "eq_diff"
   ]
  },
  {
   "cell_type": "code",
   "execution_count": 11,
   "id": "d017ccea",
   "metadata": {},
   "outputs": [
    {
     "data": {
      "text/plain": [
       "array([[ 0., -1.,  0.],\n",
       "       [-1.,  5., -1.],\n",
       "       [ 0., -1.,  0.]])"
      ]
     },
     "execution_count": 11,
     "metadata": {},
     "output_type": "execute_result"
    }
   ],
   "source": [
    "filter_generator(eq_diff, u, delta_t=dt,dx=dx, dy = dy)"
   ]
  },
  {
   "cell_type": "code",
   "execution_count": 16,
   "id": "dc28aee3",
   "metadata": {},
   "outputs": [
    {
     "data": {
      "text/plain": [
       "0.9999999999999998"
      ]
     },
     "execution_count": 16,
     "metadata": {},
     "output_type": "execute_result"
    }
   ],
   "source": [
    "dt/dx**2"
   ]
  },
  {
   "cell_type": "code",
   "execution_count": null,
   "id": "e14fd032",
   "metadata": {},
   "outputs": [],
   "source": []
  }
 ],
 "metadata": {
  "kernelspec": {
   "display_name": "Python 3 (ipykernel)",
   "language": "python",
   "name": "python3"
  },
  "language_info": {
   "codemirror_mode": {
    "name": "ipython",
    "version": 3
   },
   "file_extension": ".py",
   "mimetype": "text/x-python",
   "name": "python",
   "nbconvert_exporter": "python",
   "pygments_lexer": "ipython3",
   "version": "3.11.5"
  }
 },
 "nbformat": 4,
 "nbformat_minor": 5
}
